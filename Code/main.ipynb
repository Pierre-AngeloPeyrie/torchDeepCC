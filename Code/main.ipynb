{
 "cells": [
  {
   "cell_type": "markdown",
   "id": "b023ad0e",
   "metadata": {},
   "source": [
    "# Deep Co_Clustering torch version\n",
    "## 1. Imports"
   ]
  },
  {
   "cell_type": "code",
   "execution_count": 14,
   "id": "e18268fc",
   "metadata": {},
   "outputs": [],
   "source": [
    "import os\n",
    "import torch\n",
    "from model.pae_gmm import PaeGmm\n",
    "import numpy as np\n",
    "import scipy.io as sio\n",
    "import random"
   ]
  },
  {
   "cell_type": "markdown",
   "id": "38618a94",
   "metadata": {},
   "source": [
    "## 2. Setup and load data"
   ]
  },
  {
   "cell_type": "code",
   "execution_count": 15,
   "id": "bfc059e9",
   "metadata": {},
   "outputs": [
    {
     "name": "stdout",
     "output_type": "stream",
     "text": [
      "CUDA is supported by this system. \n",
      "CUDA version: 11.8\n",
      "Device : cuda:0\n"
     ]
    }
   ],
   "source": [
    "if torch.cuda.is_available() :\n",
    "    print(f\"CUDA is supported by this system. \\nCUDA version: {torch.version.cuda}\")\n",
    "    dev = \"cuda:0\"\n",
    "else :\n",
    "    dev = \"cpu\"\n",
    "\n",
    "print(f\"Device : {dev}\")\n",
    "device = torch.device(dev)  "
   ]
  },
  {
   "cell_type": "code",
   "execution_count": 16,
   "id": "0519d8d8",
   "metadata": {},
   "outputs": [
    {
     "name": "stdout",
     "output_type": "stream",
     "text": [
      "dataset size : (187, 1703)  \n",
      "number of classes : 5\n"
     ]
    }
   ],
   "source": [
    "dataset = \"WebKB_texas\" \n",
    "#IMDb_movies_actors, IMDb_movies_keywords,  WebKB4,  WebKB_cornell,  WebKB_texas,\n",
    "#WebKB_washington,  WebKB_wisconsin,  Yale_32x32,  cora, synthetic/synthetic_data\n",
    "\n",
    "#load data\n",
    "data_file = sio.loadmat(f'../Data/{dataset}.mat')\n",
    "input_data = data_file['fea']\n",
    "ground_truth = data_file['gnd']\n",
    "\n",
    "num_labels = len(np.unique(ground_truth))\n",
    "\n",
    "num_clus_r = num_labels\n",
    "num_clus_c = num_labels\n",
    "\n",
    "print(f\"dataset size : {tuple(input_data.shape)}  \\nnumber of classes : {num_labels}\")"
   ]
  },
  {
   "cell_type": "markdown",
   "id": "d6136017",
   "metadata": {},
   "source": [
    "## 3. Configurations"
   ]
  },
  {
   "cell_type": "code",
   "execution_count": 22,
   "id": "0c0fbb7f",
   "metadata": {},
   "outputs": [],
   "source": [
    "ae_config = [input_data.shape[1], 500, 200, 100, 40]\n",
    "\n",
    "ae_col_config = [input_data.shape[0], 500, 200, 100, 40]\n",
    "\n",
    "gmm_config = [[num_clus_r, 5], 40, 160, 80, 40, num_clus_r]\n",
    "\n",
    "epochs = 1000\n",
    "epochs_pretrain = 1000\n",
    "\n",
    "model = PaeGmm(num_clus_r, num_clus_c, ae_config, ae_col_config, gmm_config, 0, device).to(device)"
   ]
  },
  {
   "cell_type": "markdown",
   "id": "b92e22de",
   "metadata": {},
   "source": [
    "## 4. Running the model"
   ]
  },
  {
   "cell_type": "code",
   "execution_count": 23,
   "id": "1a7c6d9d",
   "metadata": {},
   "outputs": [],
   "source": [
    "acc, nmi = model.run(input_data, ground_truth, epochs, epochs_pretrain)"
   ]
  },
  {
   "cell_type": "markdown",
   "id": "a65c6dd2",
   "metadata": {},
   "source": [
    "## 5. Results "
   ]
  },
  {
   "cell_type": "code",
   "execution_count": 25,
   "id": "08d64610",
   "metadata": {},
   "outputs": [
    {
     "name": "stdout",
     "output_type": "stream",
     "text": [
      "Acc : 0.026737967914438502\n",
      "NMI : 0.02495814898576503\n"
     ]
    }
   ],
   "source": [
    "print(f\"Acc : {acc[-1]}\")\n",
    "print(f\"NMI : {nmi[-1]}\")"
   ]
  }
 ],
 "metadata": {
  "kernelspec": {
   "display_name": ".venv",
   "language": "python",
   "name": "python3"
  },
  "language_info": {
   "codemirror_mode": {
    "name": "ipython",
    "version": 3
   },
   "file_extension": ".py",
   "mimetype": "text/x-python",
   "name": "python",
   "nbconvert_exporter": "python",
   "pygments_lexer": "ipython3",
   "version": "3.9.21"
  }
 },
 "nbformat": 4,
 "nbformat_minor": 5
}
